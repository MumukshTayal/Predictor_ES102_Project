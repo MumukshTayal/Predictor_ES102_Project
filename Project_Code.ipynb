{
  "nbformat": 4,
  "nbformat_minor": 0,
  "metadata": {
    "colab": {
      "name": "ES102_Project.ipynb",
      "provenance": []
    },
    "kernelspec": {
      "name": "python3",
      "display_name": "Python 3"
    }
  },
  "cells": [
    {
      "cell_type": "code",
      "metadata": {
        "id": "c0VqWXPGmTo8"
      },
      "source": [
        "import pandas as pd                 #used to analyse numerical tables\r\n",
        "import numpy as np                 #used for working with arrays\r\n",
        "from sklearn.linear_model import LinearRegression          #used for machine learning\r\n",
        "import matplotlib.pyplot as plt              #used to plot graphs of given data\r\n",
        "import time             #it is a time related function"
      ],
      "execution_count": 38,
      "outputs": []
    },
    {
      "cell_type": "code",
      "metadata": {
        "id": "Ka2yF86emekK",
        "colab": {
          "base_uri": "https://localhost:8080/"
        },
        "outputId": "2da6d75f-d4c2-41e4-f941-1ef0ee17b96a"
      },
      "source": [
        "while(True):\r\n",
        "  try:\r\n",
        "    path=input(\"Enter the path of the csv file (heart.csv):\")\r\n",
        "    df = pd.read_csv(path)\r\n",
        "  except FileNotFoundError:\r\n",
        "    print('Sorry, we couldn\\'t find the file asked for, please enter the path again.')\r\n",
        "  else:\r\n",
        "    break"
      ],
      "execution_count": 45,
      "outputs": [
        {
          "output_type": "stream",
          "text": [
            "Enter the path of the csv file (heart.csv):/content/heart.cs\n",
            "Sorry, we couldn't find the file asked for, please enter the path again.\n",
            "Enter the path of the csv file (heart.csv):content/heart.csv\n",
            "Sorry, we couldn't find the file asked for, please enter the path again.\n",
            "Enter the path of the csv file (heart.csv):/content/heart.csv\n"
          ],
          "name": "stdout"
        }
      ]
    },
    {
      "cell_type": "code",
      "metadata": {
        "id": "Lg8GiYjJnA6Y"
      },
      "source": [
        "x = df.drop(columns=['target']).values                     #storing all feature values and not target values in x\r\n",
        "y = df['target'].values                                    #storing only target values in y\r\n",
        "#Finding mean values of different features from the data\r\n",
        "age=df['age'].mean()\r\n",
        "sex=df['sex'].mean()\r\n",
        "cp=df['cp'].mean()\r\n",
        "tbps=df['trestbps'].mean()\r\n",
        "chol=df['chol'].mean()\r\n",
        "fbs=df['fbs'].mean()\r\n",
        "recg=df['restecg'].mean()\r\n",
        "thalach=df['thalach'].mean()\r\n",
        "mean=[age,cp,tbps,chol,fbs,recg,thalach]"
      ],
      "execution_count": 28,
      "outputs": []
    },
    {
      "cell_type": "code",
      "metadata": {
        "colab": {
          "base_uri": "https://localhost:8080/"
        },
        "id": "ShCXNpRzmGdq",
        "outputId": "7009b424-ad60-4a98-b0a6-5e2b6992e062"
      },
      "source": [
        "\r\n",
        "#defining the linear regression model to predict the output based on existing data\r\n",
        "model = LinearRegression(fit_intercept=True)\r\n",
        "model.fit(x, y)"
      ],
      "execution_count": 29,
      "outputs": [
        {
          "output_type": "execute_result",
          "data": {
            "text/plain": [
              "LinearRegression(copy_X=True, fit_intercept=True, n_jobs=None, normalize=False)"
            ]
          },
          "metadata": {
            "tags": []
          },
          "execution_count": 29
        }
      ]
    },
    {
      "cell_type": "code",
      "metadata": {
        "colab": {
          "base_uri": "https://localhost:8080/"
        },
        "id": "s3ilzH2EoNys",
        "outputId": "fe9d60d2-dbc3-40e8-aa48-92f531d908be"
      },
      "source": [
        "print(\"HEART DISEASE PREDICTOR-Check if you have any heart related disease or not.\")\r\n",
        "print(\"Enter the below asked attributes to know the health of your heart...\")\r\n",
        "#Taking input of the user for different attributes\r\n",
        "Age=float(input(\"AGE:\"))\r\n",
        "Sex=float(input(\"SEX (1=Male & 0=Female):\"))\r\n",
        "Cp=float(input(\"Chest Pain Type:\"))\r\n",
        "Tbps=float(input(\"Resting Blood Pressure (in mm Hg):\"))\r\n",
        "Chol=float(input(\"Serum Cholestoral (in mg/dl):\"))\r\n",
        "Fbs=float(input(\"Fasting Blood Sugar &gt; 120 mg/dl) (1 = true; 0 = false):\"))\r\n",
        "Recg=float(input(\"Resting Electrocardiographic Results:\"))\r\n",
        "Thalach=float(input(\"Maximum Heart Rate achieved:\"))\r\n",
        "Exang=float(input(\"Exercise Induced Angina (1 = yes; 0 = no):\"))\r\n",
        "Oldpeak=float(input(\"ST Depression Induced by Exercise Relative to Rest:\"))\r\n",
        "Slope=float(input(\"Slope of the Peak Exercise ST Segment:\"))\r\n",
        "Ca=float(input(\"Number of Major Vessels (0-3) Colored by Flourosopy:\"))\r\n",
        "Thal=float(input(\"3 = normal; 6 = fixed defect; 7 = reversable defect (Range from 0-):\"))\r\n",
        "#Adding all the data input by the user to a list\r\n",
        "X_=[]\r\n",
        "X_.extend([Age,Sex,Cp,Tbps,Chol,Fbs,Recg,Thalach,Exang,Oldpeak,Slope,Ca,Thal])\r\n",
        "x_=X_[0:8]\r\n",
        "x_.pop(1)\r\n",
        "#Predicting the output to the values input by the user\r\n",
        "X_1=[X_]\r\n",
        "y_pred=model.predict(X_1)\r\n"
      ],
      "execution_count": 33,
      "outputs": [
        {
          "output_type": "stream",
          "text": [
            "HEART DISEASE PREDICTOR-Check if you have any heart related disease or not.\n",
            "Enter the below asked attributes to know the health of your heart...\n",
            "AGE:18\n",
            "SEX (1=Male & 0=Female):1\n",
            "Chest Pain Type:0\n",
            "Resting Blood Pressure (in mm Hg):120\n",
            "Serum Cholestoral (in mg/dl):0\n",
            "Fasting Blood Sugar &gt; 120 mg/dl) (1 = true; 0 = false):0\n",
            "Resting Electrocardiographic Results:0\n",
            "Maximum Heart Rate achieved:140\n",
            "Exercise Induced Angina (1 = yes; 0 = no):0\n",
            "ST Depression Induced by Exercise Relative to Rest:0\n",
            "Slope of the Peak Exercise ST Segment:0\n",
            "Number of Major Vessels (0-3) Colored by Flourosopy:0\n",
            "3 = normal; 6 = fixed defect; 7 = reversable defect (Range from 0-):3\n"
          ],
          "name": "stdout"
        }
      ]
    },
    {
      "cell_type": "code",
      "metadata": {
        "colab": {
          "base_uri": "https://localhost:8080/"
        },
        "id": "UwdKTfHhLEDG",
        "outputId": "682c3626-ba68-43b9-c2c8-945c7bb815e8"
      },
      "source": [
        "#Returning the result to the inputs provided by the user\r\n",
        "print(\"Your Result is being generated... Please wait...\")\r\n",
        "time.sleep(1.5)\r\n",
        "if(y_pred[0]>=0 and y_pred[0]<0.25):\r\n",
        "  print(\"It seems that you take a good care of your heart.\")\r\n",
        "elif(y_pred[0]>=0.25 and y_pred[0]<0.5):\r\n",
        "  print(\"It seems that your heart is at a comparatively lower risk.\")\r\n",
        "elif(y_pred[0]>=0.5 and y_pred[0]<0.75):\r\n",
        "  print(\"It seems that your heart is at a comparatively higher risk.\")\r\n",
        "elif(y_pred[0]>=0.75 and y_pred[0]<=1):\r\n",
        "  print(\"It seems that your heart is at risk. Please consult a doctor.\")\r\n",
        "print(\"Your risk percentage is\",y_pred[0]*100,\"%\")\r\n",
        "print(\"If your risk percentage is less than 50 % then you need not worry much but if it is higher than 50 % then you need to take a good care.\")"
      ],
      "execution_count": 34,
      "outputs": [
        {
          "output_type": "stream",
          "text": [
            "Your Result is being generated... Please wait...\n",
            "It seems that your heart is at a comparatively lower risk.\n",
            "Your risk percentage is 44.480837793542385 %\n",
            "If your risk percentage is less than 50 % then you need not worry much but if it is higher than 50 % then you need to take a good care.\n"
          ],
          "name": "stdout"
        }
      ]
    },
    {
      "cell_type": "code",
      "metadata": {
        "colab": {
          "base_uri": "https://localhost:8080/",
          "height": 312
        },
        "id": "9DuEERuXpz7O",
        "outputId": "f864e095-6410-4b1c-e20f-eec5a7584ee5"
      },
      "source": [
        "#using matplotlib to plot graph comparing user's inputs to world averages\r\n",
        "q='n'\r\n",
        "num=np.arange(7)\r\n",
        "x_=X_[0:8]\r\n",
        "x_.remove(Sex)\r\n",
        "q=input(\"Would you like to compare your health parameters with the average of the world?(Y/N):\")\r\n",
        "if(q=='n' or q=='N'):\r\n",
        "  pass\r\n",
        "elif(q=='y' or q=='Y'):\r\n",
        "  plt.bar(num,x_,color='r',width=0.25,label='Your Data')\r\n",
        "  plt.bar(num+0.25,mean,color='blue',width=0.25,label='World Average')\r\n",
        "  plt.legend(loc='upper right')\r\n",
        "  plt.xticks(num,['Age','Cp','Tbps','Chol','Fbs','Recg','Thalach'])\r\n",
        "  plt.title('Coparison between your data and world\\'s average')\r\n",
        "  plt.xlabel('Different Fields')\r\n",
        "  plt.ylabel('Value')\r\n",
        "  plt.show()\r\n",
        "else:\r\n",
        "  q=input(\"Please enter a valid input to the above question (Y/N):\")\r\n"
      ],
      "execution_count": 37,
      "outputs": [
        {
          "output_type": "stream",
          "text": [
            "Would you like to compare your health parameters with the average of the world?(Y/N):y\n"
          ],
          "name": "stdout"
        },
        {
          "output_type": "display_data",
          "data": {
            "image/png": "[encoded data removed]",
            "text/plain": [
              "<Figure size 432x288 with 1 Axes>"
            ]
          },
          "metadata": {
            "tags": [],
            "needs_background": "light"
          }
        }
      ]
    }
  ]
}
